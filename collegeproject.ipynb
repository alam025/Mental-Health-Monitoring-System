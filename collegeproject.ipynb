{
 "cells": [
  {
   "cell_type": "code",
   "execution_count": 1,
   "id": "991c9694-eff9-4b2c-bda3-fded15e615fd",
   "metadata": {},
   "outputs": [
    {
     "name": "stdout",
     "output_type": "stream",
     "text": [
      "Requirement already satisfied: pyarrow in c:\\users\\alamm\\anaconda3\\lib\\site-packages (16.1.0)\n",
      "Requirement already satisfied: numpy>=1.16.6 in c:\\users\\alamm\\anaconda3\\lib\\site-packages (from pyarrow) (1.26.4)\n",
      "Note: you may need to restart the kernel to use updated packages.\n"
     ]
    }
   ],
   "source": [
    "pip install pyarrow\n"
   ]
  },
  {
   "cell_type": "code",
   "execution_count": 2,
   "id": "673e0a67-6079-4022-ad0a-fe16a517a829",
   "metadata": {},
   "outputs": [
    {
     "name": "stdout",
     "output_type": "stream",
     "text": [
      "Requirement already satisfied: transformers in c:\\users\\alamm\\anaconda3\\lib\\site-packages (4.45.2)\n",
      "Requirement already satisfied: filelock in c:\\users\\alamm\\anaconda3\\lib\\site-packages (from transformers) (3.13.1)\n",
      "Requirement already satisfied: huggingface-hub<1.0,>=0.23.2 in c:\\users\\alamm\\anaconda3\\lib\\site-packages (from transformers) (0.24.6)\n",
      "Requirement already satisfied: numpy>=1.17 in c:\\users\\alamm\\anaconda3\\lib\\site-packages (from transformers) (1.26.4)\n",
      "Requirement already satisfied: packaging>=20.0 in c:\\users\\alamm\\anaconda3\\lib\\site-packages (from transformers) (24.1)\n",
      "Requirement already satisfied: pyyaml>=5.1 in c:\\users\\alamm\\anaconda3\\lib\\site-packages (from transformers) (6.0.2)\n",
      "Requirement already satisfied: regex!=2019.12.17 in c:\\users\\alamm\\anaconda3\\lib\\site-packages (from transformers) (2024.9.11)\n",
      "Requirement already satisfied: requests in c:\\users\\alamm\\anaconda3\\lib\\site-packages (from transformers) (2.32.3)\n",
      "Requirement already satisfied: tokenizers<0.21,>=0.20 in c:\\users\\alamm\\anaconda3\\lib\\site-packages (from transformers) (0.20.1)\n",
      "Requirement already satisfied: safetensors>=0.4.1 in c:\\users\\alamm\\anaconda3\\lib\\site-packages (from transformers) (0.4.5)\n",
      "Requirement already satisfied: tqdm>=4.27 in c:\\users\\alamm\\anaconda3\\lib\\site-packages (from transformers) (4.66.5)\n",
      "Requirement already satisfied: fsspec>=2023.5.0 in c:\\users\\alamm\\anaconda3\\lib\\site-packages (from huggingface-hub<1.0,>=0.23.2->transformers) (2024.6.1)\n",
      "Requirement already satisfied: typing-extensions>=3.7.4.3 in c:\\users\\alamm\\anaconda3\\lib\\site-packages (from huggingface-hub<1.0,>=0.23.2->transformers) (4.11.0)\n",
      "Requirement already satisfied: colorama in c:\\users\\alamm\\anaconda3\\lib\\site-packages (from tqdm>=4.27->transformers) (0.4.6)\n",
      "Requirement already satisfied: charset-normalizer<4,>=2 in c:\\users\\alamm\\anaconda3\\lib\\site-packages (from requests->transformers) (3.3.2)\n",
      "Requirement already satisfied: idna<4,>=2.5 in c:\\users\\alamm\\anaconda3\\lib\\site-packages (from requests->transformers) (3.7)\n",
      "Requirement already satisfied: urllib3<3,>=1.21.1 in c:\\users\\alamm\\anaconda3\\lib\\site-packages (from requests->transformers) (2.2.3)\n",
      "Requirement already satisfied: certifi>=2017.4.17 in c:\\users\\alamm\\anaconda3\\lib\\site-packages (from requests->transformers) (2024.8.30)\n",
      "Note: you may need to restart the kernel to use updated packages.\n"
     ]
    }
   ],
   "source": [
    "pip install transformers\n"
   ]
  },
  {
   "cell_type": "code",
   "execution_count": 3,
   "id": "f3461694-25e3-4b6b-a9cd-741bb5618f74",
   "metadata": {},
   "outputs": [
    {
     "name": "stdout",
     "output_type": "stream",
     "text": [
      "Requirement already satisfied: transformers in c:\\users\\alamm\\anaconda3\\lib\\site-packages (4.45.2)\n",
      "Requirement already satisfied: pyarrow in c:\\users\\alamm\\anaconda3\\lib\\site-packages (16.1.0)\n",
      "Requirement already satisfied: filelock in c:\\users\\alamm\\anaconda3\\lib\\site-packages (from transformers) (3.13.1)\n",
      "Requirement already satisfied: huggingface-hub<1.0,>=0.23.2 in c:\\users\\alamm\\anaconda3\\lib\\site-packages (from transformers) (0.24.6)\n",
      "Requirement already satisfied: numpy>=1.17 in c:\\users\\alamm\\anaconda3\\lib\\site-packages (from transformers) (1.26.4)\n",
      "Requirement already satisfied: packaging>=20.0 in c:\\users\\alamm\\anaconda3\\lib\\site-packages (from transformers) (24.1)\n",
      "Requirement already satisfied: pyyaml>=5.1 in c:\\users\\alamm\\anaconda3\\lib\\site-packages (from transformers) (6.0.2)\n",
      "Requirement already satisfied: regex!=2019.12.17 in c:\\users\\alamm\\anaconda3\\lib\\site-packages (from transformers) (2024.9.11)\n",
      "Requirement already satisfied: requests in c:\\users\\alamm\\anaconda3\\lib\\site-packages (from transformers) (2.32.3)\n",
      "Requirement already satisfied: tokenizers<0.21,>=0.20 in c:\\users\\alamm\\anaconda3\\lib\\site-packages (from transformers) (0.20.1)\n",
      "Requirement already satisfied: safetensors>=0.4.1 in c:\\users\\alamm\\anaconda3\\lib\\site-packages (from transformers) (0.4.5)\n",
      "Requirement already satisfied: tqdm>=4.27 in c:\\users\\alamm\\anaconda3\\lib\\site-packages (from transformers) (4.66.5)\n",
      "Requirement already satisfied: fsspec>=2023.5.0 in c:\\users\\alamm\\anaconda3\\lib\\site-packages (from huggingface-hub<1.0,>=0.23.2->transformers) (2024.6.1)\n",
      "Requirement already satisfied: typing-extensions>=3.7.4.3 in c:\\users\\alamm\\anaconda3\\lib\\site-packages (from huggingface-hub<1.0,>=0.23.2->transformers) (4.11.0)\n",
      "Requirement already satisfied: colorama in c:\\users\\alamm\\anaconda3\\lib\\site-packages (from tqdm>=4.27->transformers) (0.4.6)\n",
      "Requirement already satisfied: charset-normalizer<4,>=2 in c:\\users\\alamm\\anaconda3\\lib\\site-packages (from requests->transformers) (3.3.2)\n",
      "Requirement already satisfied: idna<4,>=2.5 in c:\\users\\alamm\\anaconda3\\lib\\site-packages (from requests->transformers) (3.7)\n",
      "Requirement already satisfied: urllib3<3,>=1.21.1 in c:\\users\\alamm\\anaconda3\\lib\\site-packages (from requests->transformers) (2.2.3)\n",
      "Requirement already satisfied: certifi>=2017.4.17 in c:\\users\\alamm\\anaconda3\\lib\\site-packages (from requests->transformers) (2024.8.30)\n",
      "Note: you may need to restart the kernel to use updated packages.\n"
     ]
    }
   ],
   "source": [
    "pip install transformers pyarrow\n"
   ]
  },
  {
   "cell_type": "code",
   "execution_count": 4,
   "id": "cf93b1ab-467b-449b-af07-4b3d6b8059e0",
   "metadata": {},
   "outputs": [
    {
     "name": "stdout",
     "output_type": "stream",
     "text": [
      "Requirement already satisfied: fpdf in c:\\users\\alamm\\anaconda3\\lib\\site-packages (1.7.2)\n",
      "Note: you may need to restart the kernel to use updated packages.\n"
     ]
    }
   ],
   "source": [
    "pip install fpdf\n"
   ]
  },
  {
   "cell_type": "code",
   "execution_count": 5,
   "id": "01197ec5-8f23-4cc8-b5f4-13131d7a670d",
   "metadata": {},
   "outputs": [
    {
     "name": "stdout",
     "output_type": "stream",
     "text": [
      "Requirement already satisfied: wordcloud in c:\\users\\alamm\\anaconda3\\lib\\site-packages (1.9.4)\n",
      "Requirement already satisfied: numpy>=1.6.1 in c:\\users\\alamm\\anaconda3\\lib\\site-packages (from wordcloud) (1.26.4)\n",
      "Requirement already satisfied: pillow in c:\\users\\alamm\\anaconda3\\lib\\site-packages (from wordcloud) (11.0.0)\n",
      "Requirement already satisfied: matplotlib in c:\\users\\alamm\\anaconda3\\lib\\site-packages (from wordcloud) (3.9.2)\n",
      "Requirement already satisfied: contourpy>=1.0.1 in c:\\users\\alamm\\anaconda3\\lib\\site-packages (from matplotlib->wordcloud) (1.3.1)\n",
      "Requirement already satisfied: cycler>=0.10 in c:\\users\\alamm\\anaconda3\\lib\\site-packages (from matplotlib->wordcloud) (0.11.0)\n",
      "Requirement already satisfied: fonttools>=4.22.0 in c:\\users\\alamm\\anaconda3\\lib\\site-packages (from matplotlib->wordcloud) (4.51.0)\n",
      "Requirement already satisfied: kiwisolver>=1.3.1 in c:\\users\\alamm\\anaconda3\\lib\\site-packages (from matplotlib->wordcloud) (1.4.4)\n",
      "Requirement already satisfied: packaging>=20.0 in c:\\users\\alamm\\anaconda3\\lib\\site-packages (from matplotlib->wordcloud) (24.1)\n",
      "Requirement already satisfied: pyparsing>=2.3.1 in c:\\users\\alamm\\anaconda3\\lib\\site-packages (from matplotlib->wordcloud) (3.2.0)\n",
      "Requirement already satisfied: python-dateutil>=2.7 in c:\\users\\alamm\\anaconda3\\lib\\site-packages (from matplotlib->wordcloud) (2.9.0.post0)\n",
      "Requirement already satisfied: six>=1.5 in c:\\users\\alamm\\anaconda3\\lib\\site-packages (from python-dateutil>=2.7->matplotlib->wordcloud) (1.16.0)\n",
      "Note: you may need to restart the kernel to use updated packages.\n"
     ]
    }
   ],
   "source": [
    "pip install wordcloud\n"
   ]
  },
  {
   "cell_type": "code",
   "execution_count": 6,
   "id": "357792f5-fcb1-42d4-bf4a-f0a5b76e464f",
   "metadata": {},
   "outputs": [
    {
     "name": "stdout",
     "output_type": "stream",
     "text": [
      "Requirement already satisfied: pillow in c:\\users\\alamm\\anaconda3\\lib\\site-packages (11.0.0)Note: you may need to restart the kernel to use updated packages.\n",
      "\n"
     ]
    }
   ],
   "source": [
    "pip install pillow\n"
   ]
  },
  {
   "cell_type": "code",
   "execution_count": 3,
   "id": "4d3c4913-7f10-4712-adce-bb9ead7f80e7",
   "metadata": {},
   "outputs": [
    {
     "name": "stderr",
     "output_type": "stream",
     "text": [
      "[nltk_data] Downloading package vader_lexicon to\n",
      "[nltk_data]     C:\\Users\\alamm\\AppData\\Roaming\\nltk_data...\n"
     ]
    },
    {
     "data": {
      "text/plain": [
       "True"
      ]
     },
     "execution_count": 3,
     "metadata": {},
     "output_type": "execute_result"
    }
   ],
   "source": [
    "import nltk\n",
    "nltk.download('vader_lexicon')\n"
   ]
  },
  {
   "cell_type": "code",
   "execution_count": null,
   "id": "d93b54e1-3531-4d39-8309-edcfa5efeda0",
   "metadata": {
    "scrolled": true
   },
   "outputs": [],
   "source": [
    "import tkinter as tk\n",
    "from tkinter import messagebox\n",
    "from PIL import Image, ImageTk\n",
    "import time\n",
    "import os\n",
    "from datetime import datetime\n",
    "from fpdf import FPDF\n",
    "from threading import Thread\n",
    "from pathlib import Path\n",
    "import pygetwindow as gw\n",
    "import re\n",
    "\n",
    "# Global variables\n",
    "activity_log = []  # List to store activities\n",
    "is_monitoring = False\n",
    "eye_window = None\n",
    "\n",
    "# Get active window\n",
    "def get_active_window():\n",
    "    try:\n",
    "        windows = gw.getWindowsWithTitle(\"\")\n",
    "        for window in windows:\n",
    "            if window.isActive:\n",
    "                return window.title\n",
    "    except Exception as e:\n",
    "        return \"Unknown\"\n",
    "    return \"None\"\n",
    "\n",
    "# Start monitoring\n",
    "def start_monitoring():\n",
    "    global is_monitoring\n",
    "    if not is_monitoring:\n",
    "        is_monitoring = True\n",
    "        Thread(target=log_activity).start()\n",
    "        messagebox.showinfo(\"Monitoring\", \"Monitoring started!\")\n",
    "    else:\n",
    "        messagebox.showinfo(\"Monitoring\", \"Monitoring is already running.\")\n",
    "\n",
    "# Stop monitoring\n",
    "def stop_monitoring():\n",
    "    global is_monitoring\n",
    "    if is_monitoring:\n",
    "        is_monitoring = False\n",
    "        messagebox.showinfo(\"Monitoring\", \"Stopped monitoring activities.\")\n",
    "    else:\n",
    "        messagebox.showinfo(\"Monitoring\", \"Monitoring is not active.\")\n",
    "\n",
    "# Log activity\n",
    "def log_activity():\n",
    "    while is_monitoring:\n",
    "        active_window = get_active_window()\n",
    "        timestamp = datetime.now().strftime(\"%Y-%m-%d %H:%M:%S\")\n",
    "        activity_log.append({\"time\": timestamp, \"window\": active_window})\n",
    "        time.sleep(5)  # Monitor every 5 seconds\n",
    "\n",
    "# Sanitize text for PDF\n",
    "def sanitize_text(text):\n",
    "    \"\"\"\n",
    "    Removes characters that are not supported by the 'latin-1' codec.\n",
    "    \"\"\"\n",
    "    return re.sub(r'[^\\x00-\\xFF]', '', text)\n",
    "\n",
    "# Generate PDF report\n",
    "def generate_report():\n",
    "    if not activity_log:\n",
    "        messagebox.showinfo(\"Report\", \"No activity to report.\")\n",
    "        return\n",
    "\n",
    "    try:\n",
    "        # Create PDF\n",
    "        pdf = FPDF()\n",
    "        pdf.add_page()\n",
    "        pdf.set_font(\"Arial\", size=12)\n",
    "\n",
    "        # Add title\n",
    "        pdf.set_font(\"Arial\", style=\"B\", size=16)\n",
    "        title = sanitize_text(\"Activity Monitoring Report\")\n",
    "        pdf.cell(200, 10, txt=title, ln=True, align='C')\n",
    "\n",
    "        # Add table headers\n",
    "        pdf.set_font(\"Arial\", size=12)\n",
    "        pdf.cell(80, 10, txt=\"Time\", border=1)\n",
    "        pdf.cell(110, 10, txt=\"Active Window\", border=1)\n",
    "        pdf.ln()\n",
    "\n",
    "        # Add activity data\n",
    "        for entry in activity_log:\n",
    "            pdf.cell(80, 10, txt=sanitize_text(entry[\"time\"]), border=1)\n",
    "            pdf.cell(110, 10, txt=sanitize_text(entry[\"window\"][:30]), border=1)\n",
    "            pdf.ln()\n",
    "\n",
    "        # Save the PDF to the Downloads folder with a unique name\n",
    "        downloads_path = str(Path.home() / \"Downloads\")\n",
    "        timestamp = datetime.now().strftime(\"%Y%m%d_%H%M%S\")\n",
    "        filename = os.path.join(downloads_path, f\"Activity_Report_{timestamp}.pdf\")\n",
    "        pdf.output(filename)\n",
    "\n",
    "        # Confirm file creation\n",
    "        if os.path.exists(filename):\n",
    "            messagebox.showinfo(\"Report\", f\"Report generated successfully: {filename}\")\n",
    "        else:\n",
    "            messagebox.showerror(\"Report Error\", \"Failed to create the PDF file. Please check permissions.\")\n",
    "\n",
    "    except Exception as e:\n",
    "        # Log and alert on errors\n",
    "        print(f\"Error generating report: {e}\")\n",
    "        messagebox.showerror(\"Report Error\", f\"Failed to generate report: {e}\")\n",
    "\n",
    "# Update GIF frames dynamically\n",
    "def update_gif(label, gif_frames, frame_index):\n",
    "    frame = gif_frames[frame_index]\n",
    "    label.config(image=frame)\n",
    "    label.image = frame  # Keep a reference to avoid garbage collection\n",
    "    next_frame = (frame_index + 1) % len(gif_frames)\n",
    "    label.after(100, update_gif, label, gif_frames, next_frame)  # 100ms delay for next frame\n",
    "\n",
    "# Create floating window with GIF and buttons\n",
    "def create_floating_eye():\n",
    "    global eye_window\n",
    "    eye_window = tk.Toplevel()\n",
    "    eye_window.title(\"Monitoring Eye\")\n",
    "    eye_window.geometry(\"350x300\")\n",
    "    eye_window.attributes(\"-topmost\", True)\n",
    "    eye_window.overrideredirect(True)\n",
    "\n",
    "    # Place the window at the top-right corner\n",
    "    x_position = eye_window.winfo_screenwidth() - 360\n",
    "    y_position = 10\n",
    "    eye_window.geometry(f\"350x300+{x_position}+{y_position}\")\n",
    "\n",
    "    # Load the animated GIF\n",
    "    gif_path = \"C:/Users/alamm/Downloads/eye.gif\"  # Update with your GIF path\n",
    "    gif_image = Image.open(gif_path)\n",
    "    \n",
    "    # Extract frames from the GIF\n",
    "    gif_frames = []\n",
    "    try:\n",
    "        while True:\n",
    "            gif_frame = gif_image.copy()\n",
    "            gif_frame = gif_frame.resize((350, 200))  # Resize to fit the window\n",
    "            gif_frames.append(ImageTk.PhotoImage(gif_frame))\n",
    "            gif_image.seek(len(gif_frames))  # Move to the next frame\n",
    "    except EOFError:\n",
    "        pass  # End of frames\n",
    "\n",
    "    # Create a Label widget to hold the GIF\n",
    "    gif_label = tk.Label(eye_window)\n",
    "    gif_label.pack()\n",
    "\n",
    "    # Start updating the GIF\n",
    "    if gif_frames:\n",
    "        update_gif(gif_label, gif_frames, 0)\n",
    "\n",
    "    # Add buttons on top of the GIF\n",
    "    button_frame = tk.Frame(eye_window, bg=\"black\", relief=tk.RAISED)\n",
    "    button_frame.place(relx=0.5, rely=0.85, anchor=tk.CENTER)\n",
    "\n",
    "    tk.Button(button_frame, text=\"Start Monitoring\", command=start_monitoring).pack(side=tk.LEFT, padx=10)\n",
    "    tk.Button(button_frame, text=\"Stop Monitoring\", command=stop_monitoring).pack(side=tk.LEFT, padx=10)\n",
    "    tk.Button(button_frame, text=\"Generate Report\", command=generate_report).pack(side=tk.LEFT, padx=10)\n",
    "\n",
    "# Main application entry\n",
    "def main_app():\n",
    "    global main_window\n",
    "    main_window = tk.Tk()\n",
    "    main_window.withdraw()  # Hide the main window\n",
    "\n",
    "    # Start the floating window with the eye GIF\n",
    "    create_floating_eye()\n",
    "    main_window.mainloop()\n",
    "\n",
    "# Run the app\n",
    "if __name__ == \"__main__\":\n",
    "    main_app()\n"
   ]
  },
  {
   "cell_type": "code",
   "execution_count": null,
   "id": "d6afc10f-fd6d-4bcf-9b44-3c80237e60ba",
   "metadata": {},
   "outputs": [],
   "source": []
  },
  {
   "cell_type": "code",
   "execution_count": null,
   "id": "145c79ca-f0a0-420e-8406-e8f09e65a540",
   "metadata": {},
   "outputs": [],
   "source": []
  }
 ],
 "metadata": {
  "kernelspec": {
   "display_name": "Python 3 (ipykernel)",
   "language": "python",
   "name": "python3"
  },
  "language_info": {
   "codemirror_mode": {
    "name": "ipython",
    "version": 3
   },
   "file_extension": ".py",
   "mimetype": "text/x-python",
   "name": "python",
   "nbconvert_exporter": "python",
   "pygments_lexer": "ipython3",
   "version": "3.11.5"
  }
 },
 "nbformat": 4,
 "nbformat_minor": 5
}
